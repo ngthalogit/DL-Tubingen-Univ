{
 "cells": [
  {
   "cell_type": "markdown",
   "metadata": {},
   "source": [
    "Implement the function `vector_derivative_product` according to the instructions given in exercise 1.1d)"
   ]
  },
  {
   "cell_type": "code",
   "execution_count": 1,
   "metadata": {},
   "outputs": [
    {
     "name": "stdout",
     "output_type": "stream",
     "text": [
      "The result is  correct.\n",
      "[[0.31448152 0.30312211 0.02989722 ... 0.33712695 0.37956619 0.19439345]\n",
      " [0.20846152 0.20093166 0.01981808 ... 0.22347257 0.25160443 0.1288583 ]\n",
      " [0.26812862 0.25844353 0.02549053 ... 0.28743624 0.32362017 0.16574089]\n",
      " ...\n",
      " [0.32520233 0.31345567 0.03091643 ... 0.34861975 0.39250577 0.2010204 ]\n",
      " [0.00674187 0.00649835 0.00064094 ... 0.00722735 0.00813716 0.00416742]\n",
      " [0.0397908  0.03835351 0.00378284 ... 0.04265609 0.04802585 0.02459626]]\n"
     ]
    }
   ],
   "source": [
    "import numpy as np\n",
    "\n",
    "# Implement this function without for loops but using broadcasting.\n",
    "def vector_derivative_product(A, x):\n",
    "    return A.reshape(-1, 1) * x\n",
    "\n",
    "# The following code checks whether the implementation is correct.\n",
    "A = np.random.uniform(size=(1, 64))\n",
    "x = np.random.uniform(size=(32))\n",
    "result = vector_derivative_product(A, x)\n",
    "if result.shape != (A.shape[1], x.shape[0]):\n",
    "    print('The result has the wrong shape.')\n",
    "else:\n",
    "    correct = True\n",
    "    for i in range(result.shape[0]):\n",
    "        for j in range(result.shape[1]):\n",
    "            if result[i, j] != A[0, i] * x[j]:\n",
    "                correct = False\n",
    "                break\n",
    "    print('The result is {} correct.'.format('' if correct else 'not'))\n",
    "print(result)"
   ]
  }
 ],
 "metadata": {
  "kernelspec": {
   "display_name": "Python 3",
   "language": "python",
   "name": "python3"
  },
  "language_info": {
   "codemirror_mode": {
    "name": "ipython",
    "version": 3
   },
   "file_extension": ".py",
   "mimetype": "text/x-python",
   "name": "python",
   "nbconvert_exporter": "python",
   "pygments_lexer": "ipython3",
   "version": "3.10.1"
  }
 },
 "nbformat": 4,
 "nbformat_minor": 4
}
