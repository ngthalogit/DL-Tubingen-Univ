{
 "cells": [
  {
   "cell_type": "markdown",
   "metadata": {},
   "source": [
    "## Data loading\n",
    "\n",
    "First we need to load the MNIST dataset from disk. We will do 10-class classification for digit 0, 1, .., 9 from the MNIST dataset here."
   ]
  },
  {
   "cell_type": "code",
   "execution_count": 1,
   "metadata": {
    "scrolled": false
   },
   "outputs": [
    {
     "data": {
      "image/png": "[encoded data removed]",
      "text/plain": [
       "<Figure size 432x288 with 1 Axes>"
      ]
     },
     "metadata": {
      "needs_background": "light"
     },
     "output_type": "display_data"
    },
    {
     "name": "stdout",
     "output_type": "stream",
     "text": [
      "Train data shape:  (60000, 28, 28)\n",
      "Train labels shape:  (60000,)\n",
      "Test data shape:  (10000, 28, 28)\n",
      "Test labels shape:  (10000,)\n"
     ]
    }
   ],
   "source": [
    "import numpy as np\n",
    "import matplotlib.pyplot as plt\n",
    "import edf\n",
    "import mnist_loader\n",
    "\n",
    "train_images, train_labels = mnist_loader.load_mnist(section = 'training', path = 'MNIST')\n",
    "test_images, test_labels = mnist_loader.load_mnist(section = 'testing', path = 'MNIST')\n",
    "\n",
    "plt.imshow(train_images[0], cmap='gray', interpolation = 'nearest')\n",
    "plt.show()\n",
    "\n",
    "# quickly check the shape of data\n",
    "print('Train data shape: ', train_images.shape)\n",
    "print('Train labels shape: ', train_labels.shape)\n",
    "print('Test data shape: ', test_images.shape)\n",
    "print('Test labels shape: ', test_labels.shape)\n"
   ]
  },
  {
   "cell_type": "code",
   "execution_count": 2,
   "metadata": {},
   "outputs": [
    {
     "name": "stdout",
     "output_type": "stream",
     "text": [
      "Train data shape:  (60000, 784)\n",
      "Train labels shape:  (60000,)\n",
      "Test data shape:  (10000, 784)\n",
      "Test labels shape:  (10000,)\n"
     ]
    }
   ],
   "source": [
    "\"\"\"Preprocessing: we reshape the 28x28 grayscale MNIST images to \n",
    "784-dimensional vectors, which will be the network's inputs\"\"\"\n",
    "\n",
    "train_images = train_images.reshape(len(train_images), -1)\n",
    "test_images = test_images.reshape(len(test_images), -1)\n",
    "\n",
    "# now check the shape of data after reshaping\n",
    "print('Train data shape: ', train_images.shape)\n",
    "print('Train labels shape: ', train_labels.shape)\n",
    "print('Test data shape: ', test_images.shape)\n",
    "print('Test labels shape: ', test_labels.shape)"
   ]
  },
  {
   "cell_type": "markdown",
   "metadata": {},
   "source": [
    "## Logistic Regression for 10-Class Image Classification\n",
    "\n",
    "Use EDF to assemble a computational graph for logistic regression with the softmax function. You can reuse your code from excercise 1, but no need to use `SingleProbToProbVector` class anymore because we are now tackling image classification task on **10** different classes, instead of 2 classes. Moreover, please replace the output function that you used before from `Sigmoid` to `Softmax`.\n",
    "\n",
    "Note that we don't need to implment the backward pass because the backward function of `Affine`, `Sigmoid` and `Softmax` have been implemented in EDF."
   ]
  },
  {
   "cell_type": "code",
   "execution_count": 3,
   "metadata": {},
   "outputs": [],
   "source": [
    "nInputs = train_images.shape[1] # 784-dimension \n",
    "nOutputs = 10 # Output dimension\n",
    "\n",
    "edf.clear_compgraph()\n",
    "\n",
    "# TO-DO: Define the computation graph here\n",
    "x_node = edf.Input()\n",
    "y_node = edf.Input() \n",
    "affine_params = edf.AffineParams(nInputs, nOutputs)\n",
    "y_hat = edf.Softmax(edf.Affine(affine_params, x_node))\n",
    "loss = edf.CrossEntropyLoss(y_hat, y_node)"
   ]
  },
  {
   "cell_type": "code",
   "execution_count": 4,
   "metadata": {},
   "outputs": [],
   "source": [
    "\"\"\"the following functions are used to train the network.\n",
    "training is done by iterating over mini-batches of size 'batch_size'\n",
    "and updating the model's parameters with SGD\"\"\"\n",
    "\n",
    "def run_epoch(batch_size, data, labels, x_node, y_node, prob_node, loss_node=None):\n",
    "    num_samples = len(data)\n",
    "    total_err = 0.0\n",
    "    num_batches = num_samples//batch_size\n",
    "    for i in range(num_batches):\n",
    "        start, end = i*batch_size, (i+1)*batch_size\n",
    "        x_node.value = train_images[start:end]\n",
    "        y_node.value = train_labels[start:end]\n",
    "        edf.Forward()\n",
    "        total_err += np.sum(np.not_equal(np.argmax(prob_node.value, axis=1), y_node.value))\n",
    "        if loss_node:\n",
    "            edf.Backward(loss_node)\n",
    "            edf.UpdateParameters()\n",
    "        if i>0 and i%400 == 0:\n",
    "            print (\"\\t Batch {}/{}\".format(i, num_batches))\n",
    "    return 100*total_err/num_samples\n",
    "\n",
    "def train_and_test(num_epochs, batch_size, x_node, y_node, prob_node, loss_node):\n",
    "    train_err_log = []\n",
    "    test_err_log = []\n",
    "    for epoch in range(num_epochs):\n",
    "        print(\"Epoch: {}/{} (learning rate: {})\".format(epoch+1, num_epochs, edf.learning_rate))\n",
    "        train_err = run_epoch(batch_size, train_images, train_labels, x_node, y_node, prob_node, loss_node)\n",
    "        train_err_log.append(train_err)\n",
    "        print (\"\\t Training Error {:.2f} %\".format(train_err))\n",
    "        test_err = run_epoch(len(test_images), test_images, test_labels, x_node, y_node, prob_node)\n",
    "        test_err_log.append(test_err)\n",
    "        print (\"\\t Test Error {:.2f} %\".format(test_err))\n",
    "    return train_err_log, test_err_log\n",
    "\n",
    "\"\"\"plot function\"\"\"\n",
    "def plot(train_err_log, test_err_log):\n",
    "    plt.xlabel(\"epochs\")\n",
    "    plt.ylabel(\"error (%)\")\n",
    "    plt.plot(np.arange(len(test_err_log)), test_err_log, color='red')\n",
    "    plt.plot(np.arange(len(train_err_log)), train_err_log, color='blue')\n",
    "    plt.legend(['test error', 'train error'], loc='upper right')\n",
    "    plt.show()\n",
    "    plt.clf()"
   ]
  },
  {
   "cell_type": "code",
   "execution_count": 5,
   "metadata": {},
   "outputs": [
    {
     "name": "stdout",
     "output_type": "stream",
     "text": [
      "Epoch: 1/10 (learning rate: 0.5)\n",
      "\t Batch 400/937\n",
      "\t Batch 800/937\n",
      "\t Training Error 10.60 %\n",
      "\t Test Error 9.80 %\n",
      "Epoch: 2/10 (learning rate: 0.5)\n",
      "\t Batch 400/937\n",
      "\t Batch 800/937\n",
      "\t Training Error 8.44 %\n",
      "\t Test Error 9.19 %\n",
      "Epoch: 3/10 (learning rate: 0.5)\n",
      "\t Batch 400/937\n",
      "\t Batch 800/937\n",
      "\t Training Error 8.08 %\n",
      "\t Test Error 8.87 %\n",
      "Epoch: 4/10 (learning rate: 0.5)\n",
      "\t Batch 400/937\n",
      "\t Batch 800/937\n",
      "\t Training Error 7.89 %\n",
      "\t Test Error 8.65 %\n",
      "Epoch: 5/10 (learning rate: 0.5)\n",
      "\t Batch 400/937\n",
      "\t Batch 800/937\n",
      "\t Training Error 7.75 %\n",
      "\t Test Error 8.47 %\n",
      "Epoch: 6/10 (learning rate: 0.5)\n",
      "\t Batch 400/937\n",
      "\t Batch 800/937\n",
      "\t Training Error 7.62 %\n",
      "\t Test Error 8.36 %\n",
      "Epoch: 7/10 (learning rate: 0.5)\n",
      "\t Batch 400/937\n",
      "\t Batch 800/937\n",
      "\t Training Error 7.57 %\n",
      "\t Test Error 8.27 %\n",
      "Epoch: 8/10 (learning rate: 0.5)\n",
      "\t Batch 400/937\n",
      "\t Batch 800/937\n",
      "\t Training Error 7.50 %\n",
      "\t Test Error 8.16 %\n",
      "Epoch: 9/10 (learning rate: 0.5)\n",
      "\t Batch 400/937\n",
      "\t Batch 800/937\n",
      "\t Training Error 7.46 %\n",
      "\t Test Error 8.14 %\n",
      "Epoch: 10/10 (learning rate: 0.5)\n",
      "\t Batch 400/937\n",
      "\t Batch 800/937\n",
      "\t Training Error 7.43 %\n",
      "\t Test Error 8.11 %\n"
     ]
    },
    {
     "data": {
      "image/png": "[encoded data removed]",
      "text/plain": [
       "<Figure size 432x288 with 1 Axes>"
      ]
     },
     "metadata": {
      "needs_background": "light"
     },
     "output_type": "display_data"
    },
    {
     "data": {
      "text/plain": [
       "<Figure size 432x288 with 0 Axes>"
      ]
     },
     "metadata": {},
     "output_type": "display_data"
    }
   ],
   "source": [
    "\"\"\"now, we are ready to train the logistic regression. we can choose SGD's learning rate\n",
    "by changing edf.learning_rate, which we will set as 0.5 for now.\"\"\"\n",
    "\n",
    "num_epochs = 10\n",
    "batch_size = 64\n",
    "edf.learning_rate = 0.5\n",
    "train_err_log, test_err_log = train_and_test(num_epochs, batch_size, x_node, y_node, y_hat, loss)\n",
    "plot(train_err_log, test_err_log)"
   ]
  },
  {
   "cell_type": "markdown",
   "metadata": {},
   "source": [
    "### Inline Question 1:\n",
    "If your logistic regression model weight is randomly initalized, and no training is done as above. What test error do you think the model will get?\n",
    "\n",
    "**Your answer:** *Fill this in*\n"
   ]
  },
  {
   "cell_type": "markdown",
   "metadata": {},
   "source": [
    "## MNIST Image Classification with MLP \n",
    "\n",
    "You may notice that the logistic regression model resulted with relatively high errors (~8%). Now it is time to see the power of neural network :)  \n",
    "\n",
    "You now should develop a multi-layer perceptron with two layers.\n",
    "Use EDF to assemble a computational graph for image classification using MLP with the vectorized images as input. Similar to the logistic regression task, the function `train_and_test` below expects variables `x_node`, `y_node`, `prob_node` and `loss_node` to be defined. `prob_node` calculates the class probabilities for each training sample, while we use `CrossEntropyLoss` for the `loss_node` to calculate the loss for the entire training batch. `Softmax` should be also used for the output."
   ]
  },
  {
   "cell_type": "code",
   "execution_count": 5,
   "metadata": {},
   "outputs": [],
   "source": [
    "nInputs = train_images.shape[1] # 784-dimension \n",
    "nOutputs = 10 # Output dimension\n",
    "nHiddens = 64 # Number of neurons in the hidden layer\n",
    "\n",
    "edf.clear_compgraph()\n",
    "\n",
    "# TO-DO: Define the computation graph here\n",
    "x_node = edf.Input()\n",
    "y_node = edf.Input()\n",
    "affine_params_1 = edf.AffineParams(nInputs, nHiddens)\n",
    "outputLayer = edf.Sigmoid(edf.Affine(affine_params_1, x_node))\n",
    "affine_params_2 = edf.AffineParams(nHiddens, nOutputs)\n",
    "y_hat = edf.Softmax(edf.Affine(affine_params_2, outputLayer))\n",
    "loss = edf.CrossEntropyLoss(y_hat, y_node)"
   ]
  },
  {
   "cell_type": "code",
   "execution_count": 6,
   "metadata": {},
   "outputs": [
    {
     "name": "stdout",
     "output_type": "stream",
     "text": [
      "Epoch: 1/10 (learning rate: 0.5)\n",
      "\t Batch 400/937\n",
      "\t Batch 800/937\n",
      "\t Training Error 11.75 %\n",
      "\t Test Error 8.07 %\n",
      "Epoch: 2/10 (learning rate: 0.5)\n",
      "\t Batch 400/937\n",
      "\t Batch 800/937\n",
      "\t Training Error 6.41 %\n",
      "\t Test Error 5.93 %\n",
      "Epoch: 3/10 (learning rate: 0.5)\n",
      "\t Batch 400/937\n",
      "\t Batch 800/937\n",
      "\t Training Error 5.01 %\n",
      "\t Test Error 4.62 %\n",
      "Epoch: 4/10 (learning rate: 0.5)\n",
      "\t Batch 400/937\n",
      "\t Batch 800/937\n",
      "\t Training Error 4.09 %\n",
      "\t Test Error 3.66 %\n",
      "Epoch: 5/10 (learning rate: 0.5)\n",
      "\t Batch 400/937\n",
      "\t Batch 800/937\n",
      "\t Training Error 3.46 %\n",
      "\t Test Error 3.18 %\n",
      "Epoch: 6/10 (learning rate: 0.5)\n",
      "\t Batch 400/937\n",
      "\t Batch 800/937\n",
      "\t Training Error 3.02 %\n",
      "\t Test Error 2.92 %\n",
      "Epoch: 7/10 (learning rate: 0.5)\n",
      "\t Batch 400/937\n",
      "\t Batch 800/937\n",
      "\t Training Error 2.67 %\n",
      "\t Test Error 2.59 %\n",
      "Epoch: 8/10 (learning rate: 0.5)\n",
      "\t Batch 400/937\n",
      "\t Batch 800/937\n",
      "\t Training Error 2.38 %\n",
      "\t Test Error 2.34 %\n",
      "Epoch: 9/10 (learning rate: 0.5)\n",
      "\t Batch 400/937\n",
      "\t Batch 800/937\n",
      "\t Training Error 2.14 %\n",
      "\t Test Error 2.09 %\n",
      "Epoch: 10/10 (learning rate: 0.5)\n",
      "\t Batch 400/937\n",
      "\t Batch 800/937\n",
      "\t Training Error 1.94 %\n",
      "\t Test Error 1.86 %\n"
     ]
    },
    {
     "data": {
      "image/png": "[encoded data removed]",
      "text/plain": [
       "<Figure size 432x288 with 1 Axes>"
      ]
     },
     "metadata": {
      "needs_background": "light"
     },
     "output_type": "display_data"
    },
    {
     "data": {
      "text/plain": [
       "<Figure size 432x288 with 0 Axes>"
      ]
     },
     "metadata": {},
     "output_type": "display_data"
    }
   ],
   "source": [
    "\"\"\"now, we are ready to train the network. we can choose SGD's learning rate\n",
    "by changing edf.learning_rate, which we will set as 0.5 for now.\"\"\"\n",
    "\n",
    "num_epochs = 10\n",
    "batch_size = 64\n",
    "edf.learning_rate = 0.5\n",
    "train_err_log, test_err_log = train_and_test(num_epochs, batch_size, x_node, y_node, y_hat, loss)\n",
    "plot(train_err_log, test_err_log)"
   ]
  },
  {
   "cell_type": "markdown",
   "metadata": {},
   "source": [
    "# Architecture Choice\n",
    "\n",
    "## Activation functions\n",
    "We want to explore the performance when using different activation function.\n",
    "\n",
    "First, you will implement a `Tanh` activation function by filling the missing\n",
    "code in the `forward` and `backward` methods below. You can re-use parts of EDF's Sigmoid code.\n"
   ]
  },
  {
   "cell_type": "code",
   "execution_count": 7,
   "metadata": {},
   "outputs": [],
   "source": [
    "class Tanh(edf.CompNode):\n",
    "    def __init__(self, x):\n",
    "        edf.CompNodes.append(self)\n",
    "        self.x = x\n",
    "\n",
    "    def forward(self):\n",
    "        # To-DO: implement the forward pass\n",
    "        bound = np.maximum(-10, np.minimum(10, self.x.value))\n",
    "        self.value = (1 - np.exp(-2 * bound)) / (1 + np.exp(-2 * bound))\n",
    "\n",
    "    def backward(self):\n",
    "        # To-DO: implement the backward pass\n",
    "        self.x.addgrad(self.grad * (1 - self.value ** 2))"
   ]
  },
  {
   "cell_type": "code",
   "execution_count": 8,
   "metadata": {},
   "outputs": [
    {
     "data": {
      "image/png": "[encoded data removed]",
      "text/plain": [
       "<Figure size 432x288 with 1 Axes>"
      ]
     },
     "metadata": {
      "needs_background": "light"
     },
     "output_type": "display_data"
    },
    {
     "data": {
      "text/plain": [
       "<Figure size 432x288 with 0 Axes>"
      ]
     },
     "metadata": {},
     "output_type": "display_data"
    }
   ],
   "source": [
    "\"\"\"the code below will plot the output and gradients computed by your\n",
    "implementation of the Tanh component above. check if the plots match\n",
    "Tanh(x) and dTanh/dx(x) as a sanity test of your implementation.\"\"\"\n",
    "\n",
    "values = np.linspace(-5,5,100)\n",
    "edf.clear_compgraph()\n",
    "params = edf.Parameter(values[None, :])\n",
    "output = Tanh(params)\n",
    "\n",
    "edf.Forward()\n",
    "edf.Backward(output)\n",
    "\n",
    "plt.xlabel(\"value\")\n",
    "plt.plot(values, output.value[0], color='red')\n",
    "plt.plot(values, params.grad[0], color='blue')\n",
    "plt.legend(['output', 'grad'], loc='upper left')\n",
    "plt.show()\n",
    "plt.clf()"
   ]
  },
  {
   "cell_type": "markdown",
   "metadata": {},
   "source": [
    "Again, assemble a computational graph for image classification using MLP with `Tanh` activation function. The function `train_and_test` below expects variables `x_node`, `y_node`, `prob_node` and `loss_node` to be defined."
   ]
  },
  {
   "cell_type": "code",
   "execution_count": 9,
   "metadata": {},
   "outputs": [],
   "source": [
    "nInputs = train_images.shape[1] # 784-dimension \n",
    "nOutputs = 10 # Output dimension\n",
    "nHiddens = 64 # Number of neurons in the hidden layer\n",
    "\n",
    "np.random.seed(1234)\n",
    "edf.clear_compgraph()\n",
    "\n",
    "# TO-DO: Define the computation graph here\n",
    "x_node = edf.Input()\n",
    "y_node = edf.Input()\n",
    "affine_params_1 = edf.AffineParams(nInputs, nHiddens)\n",
    "outputLayer = Tanh(edf.Affine(affine_params_1, x_node))\n",
    "affine_params_2 = edf.AffineParams(nHiddens, nOutputs)\n",
    "y_hat = edf.Softmax(edf.Affine(affine_params_2, outputLayer))\n",
    "loss = edf.CrossEntropyLoss(y_hat, y_node)\n"
   ]
  },
  {
   "cell_type": "code",
   "execution_count": 11,
   "metadata": {},
   "outputs": [
    {
     "name": "stdout",
     "output_type": "stream",
     "text": [
      "Epoch: 1/10 (learning rate: 0.5)\n",
      "\t Batch 400/937\n",
      "\t Batch 800/937\n",
      "\t Training Error 8.29 %\n",
      "\t Test Error 6.01 %\n",
      "Epoch: 2/10 (learning rate: 0.5)\n",
      "\t Batch 400/937\n",
      "\t Batch 800/937\n",
      "\t Training Error 4.21 %\n",
      "\t Test Error 4.13 %\n",
      "Epoch: 3/10 (learning rate: 0.5)\n",
      "\t Batch 400/937\n",
      "\t Batch 800/937\n",
      "\t Training Error 3.05 %\n",
      "\t Test Error 2.93 %\n",
      "Epoch: 4/10 (learning rate: 0.5)\n",
      "\t Batch 400/937\n",
      "\t Batch 800/937\n",
      "\t Training Error 2.38 %\n",
      "\t Test Error 2.26 %\n",
      "Epoch: 5/10 (learning rate: 0.5)\n",
      "\t Batch 400/937\n",
      "\t Batch 800/937\n",
      "\t Training Error 1.95 %\n",
      "\t Test Error 1.82 %\n",
      "Epoch: 6/10 (learning rate: 0.5)\n",
      "\t Batch 400/937\n",
      "\t Batch 800/937\n",
      "\t Training Error 1.60 %\n",
      "\t Test Error 1.60 %\n",
      "Epoch: 7/10 (learning rate: 0.5)\n",
      "\t Batch 400/937\n",
      "\t Batch 800/937\n",
      "\t Training Error 1.31 %\n",
      "\t Test Error 1.41 %\n",
      "Epoch: 8/10 (learning rate: 0.5)\n",
      "\t Batch 400/937\n",
      "\t Batch 800/937\n",
      "\t Training Error 1.07 %\n",
      "\t Test Error 1.28 %\n",
      "Epoch: 9/10 (learning rate: 0.5)\n",
      "\t Batch 400/937\n",
      "\t Batch 800/937\n",
      "\t Training Error 0.84 %\n",
      "\t Test Error 1.20 %\n",
      "Epoch: 10/10 (learning rate: 0.5)\n",
      "\t Batch 400/937\n",
      "\t Batch 800/937\n",
      "\t Training Error 0.66 %\n",
      "\t Test Error 1.21 %\n"
     ]
    },
    {
     "data": {
      "image/png": "[encoded data removed]",
      "text/plain": [
       "<Figure size 432x288 with 1 Axes>"
      ]
     },
     "metadata": {
      "needs_background": "light"
     },
     "output_type": "display_data"
    },
    {
     "data": {
      "text/plain": [
       "<Figure size 432x288 with 0 Axes>"
      ]
     },
     "metadata": {},
     "output_type": "display_data"
    }
   ],
   "source": [
    "\"\"\"now, we are ready to train the Tanh MLP network. \"\"\"\n",
    "\n",
    "num_epochs = 10\n",
    "batch_size = 64\n",
    "edf.learning_rate = 0.5\n",
    "train_err_log, test_err_log = train_and_test(num_epochs, batch_size, x_node, y_node, y_hat, loss)\n",
    "plot(train_err_log, test_err_log)"
   ]
  },
  {
   "cell_type": "markdown",
   "metadata": {},
   "source": [
    "Now, you will implement a ReLU activation function ReLU(x) = max(0,x).\n",
    "implement the `forward` and `backward` methods of the following class.\n"
   ]
  },
  {
   "cell_type": "code",
   "execution_count": 10,
   "metadata": {},
   "outputs": [],
   "source": [
    "class ReLU(edf.CompNode):\n",
    "    def __init__(self, x):\n",
    "        edf.CompNodes.append(self)\n",
    "        self.x = x\n",
    "\n",
    "    def forward(self):\n",
    "        # To-DO: implement the forward pass\n",
    "        #tmp = self.x.value.copy()\n",
    "        #tmp[self.x.value <= 0.0] = 0.0\n",
    "        self.value = np.maximum(0.0, self.x.value)#tmp\n",
    "\n",
    "    def backward(self):\n",
    "        # To-DO: implement the backward pass\n",
    "        tmp = np.ones_like(self.x.value)\n",
    "        tmp[self.x.value <= 0] = 0\n",
    "        self.x.addgrad(self.grad * tmp)"
   ]
  },
  {
   "cell_type": "code",
   "execution_count": 11,
   "metadata": {},
   "outputs": [
    {
     "data": {
      "image/png": "[encoded data removed]",
      "text/plain": [
       "<Figure size 432x288 with 1 Axes>"
      ]
     },
     "metadata": {
      "needs_background": "light"
     },
     "output_type": "display_data"
    },
    {
     "data": {
      "text/plain": [
       "<Figure size 432x288 with 0 Axes>"
      ]
     },
     "metadata": {},
     "output_type": "display_data"
    }
   ],
   "source": [
    "\"\"\"the code below will plot the output and gradients computed by your\n",
    "implementation of the ReLU component above. check if the plots match\n",
    "ReLU(x) and dReLU/dx(x) as a sanity test of your implementation.\"\"\"\n",
    "\n",
    "values = np.linspace(-2,2,100)\n",
    "edf.clear_compgraph()\n",
    "params = edf.Parameter(values[None, :])\n",
    "output = ReLU(params)\n",
    "\n",
    "edf.Forward()\n",
    "edf.Backward(output)\n",
    "\n",
    "plt.xlabel(\"value\")\n",
    "plt.plot(values, output.value[0], color='red')\n",
    "plt.plot(values, params.grad[0], color='blue')\n",
    "plt.legend(['output', 'grad'], loc='upper left')\n",
    "plt.show()\n",
    "plt.clf()"
   ]
  },
  {
   "cell_type": "markdown",
   "metadata": {},
   "source": [
    "Again, assemble a computational graph for image classification using MLP with `ReLU` activation function. The function `train_and_test` below expects variables `x_node`, `y_node`, `prob_node` and `loss_node` to be defined."
   ]
  },
  {
   "cell_type": "code",
   "execution_count": 12,
   "metadata": {},
   "outputs": [],
   "source": [
    "nInputs = train_images.shape[1] # 784-dimension \n",
    "nOutputs = 10 # Output dimension\n",
    "nHiddens = 64 # Number of neurons in the hidden layer\n",
    "\n",
    "np.random.seed(1234)\n",
    "edf.clear_compgraph()\n",
    "\n",
    "# TO-DO: Define the computation graph here\n",
    "x_node = edf.Input() \n",
    "y_node = edf.Input()\n",
    "affine_params_1 = edf.AffineParams(nInputs, nHiddens)\n",
    "outputLayer = ReLU(edf.Affine(affine_params_1, x_node))\n",
    "affine_params_2 = edf.AffineParams(nHiddens, nOutputs)\n",
    "y_hat = edf.Softmax(edf.Affine(affine_params_2, outputLayer))\n",
    "loss = edf.CrossEntropyLoss(y_hat, y_node)"
   ]
  },
  {
   "cell_type": "code",
   "execution_count": 37,
   "metadata": {},
   "outputs": [
    {
     "name": "stdout",
     "output_type": "stream",
     "text": [
      "Epoch: 1/10 (learning rate: 0.5)\n",
      "\t Batch 400/937\n",
      "\t Batch 800/937\n",
      "\t Training Error 7.99 %\n",
      "\t Test Error 6.50 %\n",
      "Epoch: 2/10 (learning rate: 0.5)\n",
      "\t Batch 400/937\n",
      "\t Batch 800/937\n",
      "\t Training Error 3.70 %\n",
      "\t Test Error 4.08 %\n",
      "Epoch: 3/10 (learning rate: 0.5)\n",
      "\t Batch 400/937\n",
      "\t Batch 800/937\n",
      "\t Training Error 2.72 %\n",
      "\t Test Error 2.73 %\n",
      "Epoch: 4/10 (learning rate: 0.5)\n",
      "\t Batch 400/937\n",
      "\t Batch 800/937\n",
      "\t Training Error 2.16 %\n",
      "\t Test Error 2.38 %\n",
      "Epoch: 5/10 (learning rate: 0.5)\n",
      "\t Batch 400/937\n",
      "\t Batch 800/937\n",
      "\t Training Error 1.82 %\n",
      "\t Test Error 2.34 %\n",
      "Epoch: 6/10 (learning rate: 0.5)\n",
      "\t Batch 400/937\n",
      "\t Batch 800/937\n",
      "\t Training Error 1.56 %\n",
      "\t Test Error 2.34 %\n",
      "Epoch: 7/10 (learning rate: 0.5)\n",
      "\t Batch 400/937\n",
      "\t Batch 800/937\n",
      "\t Training Error 1.30 %\n",
      "\t Test Error 1.99 %\n",
      "Epoch: 8/10 (learning rate: 0.5)\n",
      "\t Batch 400/937\n",
      "\t Batch 800/937\n",
      "\t Training Error 1.09 %\n",
      "\t Test Error 1.87 %\n",
      "Epoch: 9/10 (learning rate: 0.5)\n",
      "\t Batch 400/937\n",
      "\t Batch 800/937\n",
      "\t Training Error 0.95 %\n",
      "\t Test Error 1.77 %\n",
      "Epoch: 10/10 (learning rate: 0.5)\n",
      "\t Batch 400/937\n",
      "\t Batch 800/937\n",
      "\t Training Error 0.92 %\n",
      "\t Test Error 1.48 %\n"
     ]
    },
    {
     "data": {
      "image/png": "[encoded data removed]",
      "text/plain": [
       "<Figure size 432x288 with 1 Axes>"
      ]
     },
     "metadata": {
      "needs_background": "light"
     },
     "output_type": "display_data"
    },
    {
     "data": {
      "text/plain": [
       "<Figure size 432x288 with 0 Axes>"
      ]
     },
     "metadata": {},
     "output_type": "display_data"
    }
   ],
   "source": [
    "\"\"\"now, we are ready to train the ReLU MLP network. \"\"\"\n",
    "\n",
    "num_epochs = 10\n",
    "batch_size = 64\n",
    "edf.learning_rate = 0.5\n",
    "train_err_log, test_err_log = train_and_test(num_epochs, batch_size, x_node, y_node, y_hat, loss)\n",
    "plot(train_err_log, test_err_log)"
   ]
  },
  {
   "cell_type": "markdown",
   "metadata": {},
   "source": [
    "Now, you will implement a LeakyReLU(x) = max(cx, x) with the constant `c` = 0.01.\n",
    "implement the `forward` and `backward` methods of the following class.\n"
   ]
  },
  {
   "cell_type": "code",
   "execution_count": 13,
   "metadata": {},
   "outputs": [],
   "source": [
    "class LeakyReLU(edf.CompNode):\n",
    "    def __init__(self, x):\n",
    "        edf.CompNodes.append(self)\n",
    "        self.x = x\n",
    "        self.c = 0.01\n",
    "\n",
    "    def forward(self):\n",
    "        # To-DO: implement the forward pass\n",
    "        self.value = np.maximum(self.c * self.x.value, self.x.value)\n",
    "\n",
    "    def backward(self):\n",
    "        # To-DO: implement the backward pass\n",
    "        tmp = np.ones_like(self.x.value)\n",
    "        tmp[self.x.value <= self.c] = self.c\n",
    "        self.x.addgrad(self.grad * tmp)\n",
    "        \n",
    "       "
   ]
  },
  {
   "cell_type": "code",
   "execution_count": 41,
   "metadata": {},
   "outputs": [
    {
     "data": {
      "image/png": "[encoded data removed]",
      "text/plain": [
       "<Figure size 432x288 with 1 Axes>"
      ]
     },
     "metadata": {
      "needs_background": "light"
     },
     "output_type": "display_data"
    },
    {
     "data": {
      "text/plain": [
       "<Figure size 432x288 with 0 Axes>"
      ]
     },
     "metadata": {},
     "output_type": "display_data"
    }
   ],
   "source": [
    "\"\"\"the code below will plot the output and gradients computed by your\n",
    "implementation of the ReLU component above. check if the plots match\n",
    "LeakyReLU(x) and d LeakyReLU/dx(x) as a sanity test of your implementation.\"\"\"\n",
    "\n",
    "values = np.linspace(-2,2,100)\n",
    "edf.clear_compgraph()\n",
    "params = edf.Parameter(values[None, :])\n",
    "output = LeakyReLU(params)\n",
    "\n",
    "edf.Forward()\n",
    "edf.Backward(output)\n",
    "\n",
    "plt.xlabel(\"value\")\n",
    "plt.plot(values, output.value[0], color='red')\n",
    "plt.plot(values, params.grad[0], color='blue')\n",
    "plt.legend(['output', 'grad'], loc='upper left')\n",
    "plt.show()\n",
    "plt.clf()"
   ]
  },
  {
   "cell_type": "markdown",
   "metadata": {},
   "source": [
    "Again, assemble a computational graph for image classification using MLP with `LeakyReLU` activation function. The function `train_and_test` below expects variables `x_node`, `y_node`, `prob_node` and `loss_node` to be defined."
   ]
  },
  {
   "cell_type": "code",
   "execution_count": 50,
   "metadata": {},
   "outputs": [],
   "source": [
    "nInputs = train_images.shape[1] # 784-dimension \n",
    "nOutputs = 10 # Output dimension\n",
    "nHiddens = 64 # Number of neurons in the hidden layer\n",
    "\n",
    "np.random.seed(1234)\n",
    "edf.clear_compgraph()\n",
    "\n",
    "# TO-DO: Define the computation graph here\n",
    "x_node = edf.Input()\n",
    "y_node = edf.Input()\n",
    "affine_params_1 = edf.AffineParams(nInputs, nHiddens)\n",
    "outputLayer = LeakyReLU(edf.Affine(affine_params_1, x_node))\n",
    "affine_params_2 = edf.AffineParams(nHiddens, nOutputs)\n",
    "y_hat = edf.Softmax(edf.Affine(affine_params_2, outputLayer))\n",
    "loss = edf.CrossEntropyLoss(y_hat, y_node)\n"
   ]
  },
  {
   "cell_type": "code",
   "execution_count": 52,
   "metadata": {},
   "outputs": [
    {
     "name": "stdout",
     "output_type": "stream",
     "text": [
      "Epoch: 1/10 (learning rate: 0.5)\n",
      "\t Batch 400/937\n",
      "\t Batch 800/937\n",
      "\t Training Error 8.01 %\n",
      "\t Test Error 7.01 %\n",
      "Epoch: 2/10 (learning rate: 0.5)\n",
      "\t Batch 400/937\n",
      "\t Batch 800/937\n",
      "\t Training Error 3.63 %\n",
      "\t Test Error 4.03 %\n",
      "Epoch: 3/10 (learning rate: 0.5)\n",
      "\t Batch 400/937\n",
      "\t Batch 800/937\n",
      "\t Training Error 2.69 %\n",
      "\t Test Error 2.87 %\n",
      "Epoch: 4/10 (learning rate: 0.5)\n",
      "\t Batch 400/937\n",
      "\t Batch 800/937\n",
      "\t Training Error 2.20 %\n",
      "\t Test Error 2.32 %\n",
      "Epoch: 5/10 (learning rate: 0.5)\n",
      "\t Batch 400/937\n",
      "\t Batch 800/937\n",
      "\t Training Error 1.86 %\n",
      "\t Test Error 2.10 %\n",
      "Epoch: 6/10 (learning rate: 0.5)\n",
      "\t Batch 400/937\n",
      "\t Batch 800/937\n",
      "\t Training Error 1.53 %\n",
      "\t Test Error 1.94 %\n",
      "Epoch: 7/10 (learning rate: 0.5)\n",
      "\t Batch 400/937\n",
      "\t Batch 800/937\n",
      "\t Training Error 1.34 %\n",
      "\t Test Error 1.97 %\n",
      "Epoch: 8/10 (learning rate: 0.5)\n",
      "\t Batch 400/937\n",
      "\t Batch 800/937\n",
      "\t Training Error 1.14 %\n",
      "\t Test Error 1.60 %\n",
      "Epoch: 9/10 (learning rate: 0.5)\n",
      "\t Batch 400/937\n",
      "\t Batch 800/937\n",
      "\t Training Error 0.94 %\n",
      "\t Test Error 1.51 %\n",
      "Epoch: 10/10 (learning rate: 0.5)\n",
      "\t Batch 400/937\n",
      "\t Batch 800/937\n",
      "\t Training Error 0.85 %\n",
      "\t Test Error 1.45 %\n"
     ]
    },
    {
     "data": {
      "image/png": "[encoded data removed]",
      "text/plain": [
       "<Figure size 432x288 with 1 Axes>"
      ]
     },
     "metadata": {
      "needs_background": "light"
     },
     "output_type": "display_data"
    },
    {
     "data": {
      "text/plain": [
       "<Figure size 432x288 with 0 Axes>"
      ]
     },
     "metadata": {},
     "output_type": "display_data"
    }
   ],
   "source": [
    "\"\"\"now, we are ready to train the ReLU MLP network. \"\"\"\n",
    "num_epochs = 10\n",
    "batch_size = 64\n",
    "edf.learning_rate = 0.5\n",
    "train_err_log, test_err_log = train_and_test(num_epochs, batch_size, x_node, y_node, y_hat, loss)\n",
    "plot(train_err_log, test_err_log)"
   ]
  },
  {
   "cell_type": "markdown",
   "metadata": {},
   "source": [
    "### Numerical Differentiation\n",
    "Please implement the **symmetric difference quotient**. You can check lecture 4 slides about Numerical Differentiation."
   ]
  },
  {
   "cell_type": "code",
   "execution_count": 55,
   "metadata": {},
   "outputs": [],
   "source": [
    "def numerical_differentiation(f, x):\n",
    "    \"\"\"\n",
    "    f: activation function\n",
    "    x: input\n",
    "    \"\"\"\n",
    "    h = 1e-4\n",
    "    analytical_grad = x.grad\n",
    "    # To-Do: calculate the numeric gradient of the function f\n",
    "    # Hint: define two edf.Input(), one with value of x.value + h, and the other x.value - h\n",
    "    # ...\n",
    "    # ...\n",
    "    # numeric_grad = ...\n",
    "    this = edf.Input()\n",
    "    that = edf.Input()\n",
    "\n",
    "    this.value = x.value + h \n",
    "    that.value = x.value - h\n",
    "\n",
    "    fthis = f(this)\n",
    "    fthat = f(that)\n",
    "\n",
    "    edf.Forward()\n",
    "    numeric_grad = (fthis.value - fthat.value) / (2 * h)\n",
    "    \n",
    "    max_error = np.abs(analytical_grad - numeric_grad).max()\n",
    "    mean_error = np.abs(analytical_grad - numeric_grad).mean()\n",
    "    \n",
    "    return numeric_grad, max_error, mean_error\n"
   ]
  },
  {
   "cell_type": "markdown",
   "metadata": {},
   "source": [
    "Now use the code below to show the difference between the analytical and numerical gradient.\n",
    "Firstly, we test on the `Sigmoid` function.\n",
    "\n",
    "Note that, if your `numerical_differentiation` is implemented correctly, you should see the analytical gradient and numeric gradient overlap."
   ]
  },
  {
   "cell_type": "code",
   "execution_count": 56,
   "metadata": {},
   "outputs": [
    {
     "data": {
      "image/png": "[encoded data removed]",
      "text/plain": [
       "<Figure size 432x288 with 1 Axes>"
      ]
     },
     "metadata": {
      "needs_background": "light"
     },
     "output_type": "display_data"
    },
    {
     "data": {
      "text/plain": [
       "<Figure size 432x288 with 0 Axes>"
      ]
     },
     "metadata": {},
     "output_type": "display_data"
    }
   ],
   "source": [
    "f = edf.Sigmoid\n",
    "\n",
    "def plot_gradient_difference(f):\n",
    "    values = np.linspace(-5,5,100)\n",
    "    edf.clear_compgraph()\n",
    "    x = edf.Parameter(values[None, :])\n",
    "    output = f(x)\n",
    "    edf.Forward()\n",
    "    edf.Backward(output)\n",
    "\n",
    "    # calculate numeric gradient\n",
    "    numeric_grad, max_error, mean_error = numerical_differentiation(f, x)\n",
    "\n",
    "    plt.xlabel(\"x\")\n",
    "    plt.plot(values, output.value[0], color='red')\n",
    "    plt.plot(values, x.grad[0], color='blue', linewidth=4)\n",
    "    plt.plot(values, numeric_grad[0], color='orange')\n",
    "    plt.legend(['f', 'analytical grad', 'numeric grad'], loc='upper left')\n",
    "    plt.title('max error: %.5f,  mean error: %.5f'%(max_error, mean_error))\n",
    "    plt.show()\n",
    "    plt.clf()\n",
    "\n",
    "plot_gradient_difference(f)"
   ]
  },
  {
   "cell_type": "markdown",
   "metadata": {},
   "source": [
    "Now we visualize the gradients for `Tanh`, `ReLU` and `LeakyReLU`."
   ]
  },
  {
   "cell_type": "code",
   "execution_count": 57,
   "metadata": {},
   "outputs": [
    {
     "data": {
      "image/png": "[encoded data removed]",
      "text/plain": [
       "<Figure size 432x288 with 1 Axes>"
      ]
     },
     "metadata": {
      "needs_background": "light"
     },
     "output_type": "display_data"
    },
    {
     "data": {
      "image/png": "[encoded data removed]",
      "text/plain": [
       "<Figure size 432x288 with 1 Axes>"
      ]
     },
     "metadata": {
      "needs_background": "light"
     },
     "output_type": "display_data"
    },
    {
     "data": {
      "image/png": "[encoded data removed]",
      "text/plain": [
       "<Figure size 432x288 with 1 Axes>"
      ]
     },
     "metadata": {
      "needs_background": "light"
     },
     "output_type": "display_data"
    },
    {
     "data": {
      "text/plain": [
       "<Figure size 432x288 with 0 Axes>"
      ]
     },
     "metadata": {},
     "output_type": "display_data"
    }
   ],
   "source": [
    "plot_gradient_difference(Tanh)\n",
    "plot_gradient_difference(ReLU)\n",
    "plot_gradient_difference(LeakyReLU)"
   ]
  },
  {
   "cell_type": "markdown",
   "metadata": {},
   "source": [
    "## Change Learning Rate\n",
    "Let's check how changing the learning rate affects the model's train and test error. You should implement in a way to collect the network's final train/test errors for each of the learning rates in the array below. you should do this for MLPs with sigmoid and relu activations, and select the best learning rate for each of the two networks (w/ sigmoid and w/ relu activations)"
   ]
  },
  {
   "cell_type": "markdown",
   "metadata": {},
   "source": [
    "Add code below to train MLPs with sigmoid activation. Your code should populate the arrays `train_err_per_lr` and `test_err_per_lr`, such that they contain the train and test errors of models trained with each learning rate in the learning_rates arrays, i.e. `train_err_per_lr[1]` should contain\n",
    "the final train error of a sigmoid MLP trained with a learning\n",
    "rate of 1.0.\n",
    "\n",
    "Hint: you should be able to reuse most of the code above."
   ]
  },
  {
   "cell_type": "code",
   "execution_count": 15,
   "metadata": {},
   "outputs": [
    {
     "name": "stdout",
     "output_type": "stream",
     "text": [
      "Epoch: 1/5 (learning rate: 0.1)\n",
      "\t Batch 400/937\n",
      "\t Batch 800/937\n",
      "\t Training Error 18.05 %\n",
      "\t Test Error 11.01 %\n",
      "Epoch: 2/5 (learning rate: 0.1)\n",
      "\t Batch 400/937\n",
      "\t Batch 800/937\n",
      "\t Training Error 9.90 %\n",
      "\t Test Error 9.09 %\n",
      "Epoch: 3/5 (learning rate: 0.1)\n",
      "\t Batch 400/937\n",
      "\t Batch 800/937\n",
      "\t Training Error 8.65 %\n",
      "\t Test Error 7.99 %\n",
      "Epoch: 4/5 (learning rate: 0.1)\n",
      "\t Batch 400/937\n",
      "\t Batch 800/937\n",
      "\t Training Error 7.83 %\n",
      "\t Test Error 7.26 %\n",
      "Epoch: 5/5 (learning rate: 0.1)\n",
      "\t Batch 400/937\n",
      "\t Batch 800/937\n",
      "\t Training Error 7.27 %\n",
      "\t Test Error 6.65 %\n",
      "Epoch: 1/5 (learning rate: 0.5)\n",
      "\t Batch 400/937\n",
      "\t Batch 800/937\n",
      "\t Training Error 11.51 %\n",
      "\t Test Error 7.89 %\n",
      "Epoch: 2/5 (learning rate: 0.5)\n",
      "\t Batch 400/937\n",
      "\t Batch 800/937\n",
      "\t Training Error 6.37 %\n",
      "\t Test Error 5.77 %\n",
      "Epoch: 3/5 (learning rate: 0.5)\n",
      "\t Batch 400/937\n",
      "\t Batch 800/937\n",
      "\t Training Error 5.00 %\n",
      "\t Test Error 4.56 %\n",
      "Epoch: 4/5 (learning rate: 0.5)\n",
      "\t Batch 400/937\n",
      "\t Batch 800/937\n",
      "\t Training Error 4.10 %\n",
      "\t Test Error 3.78 %\n",
      "Epoch: 5/5 (learning rate: 0.5)\n",
      "\t Batch 400/937\n",
      "\t Batch 800/937\n",
      "\t Training Error 3.49 %\n",
      "\t Test Error 3.25 %\n",
      "Epoch: 1/5 (learning rate: 1.0)\n",
      "\t Batch 400/937\n",
      "\t Batch 800/937\n",
      "\t Training Error 10.08 %\n",
      "\t Test Error 6.81 %\n",
      "Epoch: 2/5 (learning rate: 1.0)\n",
      "\t Batch 400/937\n",
      "\t Batch 800/937\n",
      "\t Training Error 4.96 %\n",
      "\t Test Error 4.68 %\n",
      "Epoch: 3/5 (learning rate: 1.0)\n",
      "\t Batch 400/937\n",
      "\t Batch 800/937\n",
      "\t Training Error 3.71 %\n",
      "\t Test Error 3.51 %\n",
      "Epoch: 4/5 (learning rate: 1.0)\n",
      "\t Batch 400/937\n",
      "\t Batch 800/937\n",
      "\t Training Error 2.98 %\n",
      "\t Test Error 2.86 %\n",
      "Epoch: 5/5 (learning rate: 1.0)\n",
      "\t Batch 400/937\n",
      "\t Batch 800/937\n",
      "\t Training Error 2.51 %\n",
      "\t Test Error 2.39 %\n"
     ]
    }
   ],
   "source": [
    "num_epochs = 5\n",
    "batch_size = 64\n",
    "learning_rates = [0.1, 0.5, 1.0]\n",
    "\n",
    "train_err_per_lr = []\n",
    "test_err_per_lr = []\n",
    "\n",
    "\n",
    "for i in range(len(learning_rates)):\n",
    "    edf.learning_rate = learning_rates[i]\n",
    "    np.random.seed(1234)\n",
    "    edf.clear_compgraph()\n",
    "    # TO-DO: add training code below\n",
    "    # ...\n",
    "    # ...\n",
    "    # train_err_per_lr\n",
    "    # test_err_per_lr\n",
    "    x_node = edf.Input() \n",
    "    y_node = edf.Input()\n",
    "    affine_params_1 = edf.AffineParams(nInputs, nHiddens)\n",
    "    outputLayer = edf.Sigmoid(edf.Affine(affine_params_1, x_node))\n",
    "    affine_params_2 = edf.AffineParams(nHiddens, nOutputs)\n",
    "    y_hat = edf.Softmax(edf.Affine(affine_params_2, outputLayer))\n",
    "    loss = edf.CrossEntropyLoss(y_hat, y_node)\n",
    "\n",
    "    train_err_log, test_err_log = train_and_test(num_epochs, batch_size, x_node, y_node, y_hat, loss)\n",
    "    train_err_per_lr.append(train_err_log[-1])\n",
    "    test_err_per_lr.append(test_err_log[-1])\n",
    "\n",
    "best_sigmoid_idx = np.argmin(test_err_per_lr)\n",
    "best_sigmoid_lr = learning_rates[best_sigmoid_idx]\n"
   ]
  },
  {
   "cell_type": "code",
   "execution_count": 63,
   "metadata": {},
   "outputs": [
    {
     "data": {
      "image/png": "[encoded data removed]",
      "text/plain": [
       "<Figure size 432x288 with 1 Axes>"
      ]
     },
     "metadata": {
      "needs_background": "light"
     },
     "output_type": "display_data"
    },
    {
     "data": {
      "text/plain": [
       "<Figure size 432x288 with 0 Axes>"
      ]
     },
     "metadata": {},
     "output_type": "display_data"
    }
   ],
   "source": [
    "plt.xlabel(\"learning rate\")\n",
    "plt.ylabel(\"error (%)\")\n",
    "plt.plot(learning_rates, test_err_per_lr, color='red')\n",
    "plt.plot(best_sigmoid_lr, test_err_per_lr[best_sigmoid_idx], 'ok', label='_nolegend_')\n",
    "plt.plot(learning_rates, train_err_per_lr, color='blue')\n",
    "plt.legend(['test error', 'train error'], loc='upper right')\n",
    "plt.show()\n",
    "plt.clf()"
   ]
  },
  {
   "cell_type": "markdown",
   "metadata": {},
   "source": [
    "Now repeat the experiments above but with a `ReLU` activation function in the hidden layer of a MLP. Fill below."
   ]
  },
  {
   "cell_type": "code",
   "execution_count": 72,
   "metadata": {},
   "outputs": [
    {
     "name": "stdout",
     "output_type": "stream",
     "text": [
      "Epoch: 1/5 (learning rate: 0.1)\n",
      "\t Batch 400/937\n",
      "\t Batch 800/937\n",
      "\t Training Error 10.76 %\n",
      "\t Test Error 7.64 %\n",
      "Epoch: 2/5 (learning rate: 0.1)\n",
      "\t Batch 400/937\n",
      "\t Batch 800/937\n",
      "\t Training Error 6.16 %\n",
      "\t Test Error 5.49 %\n",
      "Epoch: 3/5 (learning rate: 0.1)\n",
      "\t Batch 400/937\n",
      "\t Batch 800/937\n",
      "\t Training Error 4.77 %\n",
      "\t Test Error 4.26 %\n",
      "Epoch: 4/5 (learning rate: 0.1)\n",
      "\t Batch 400/937\n",
      "\t Batch 800/937\n",
      "\t Training Error 3.88 %\n",
      "\t Test Error 3.51 %\n",
      "Epoch: 5/5 (learning rate: 0.1)\n",
      "\t Batch 400/937\n",
      "\t Batch 800/937\n",
      "\t Training Error 3.28 %\n",
      "\t Test Error 3.14 %\n",
      "Epoch: 1/5 (learning rate: 0.5)\n",
      "\t Batch 400/937\n",
      "\t Batch 800/937\n",
      "\t Training Error 7.99 %\n",
      "\t Test Error 6.50 %\n",
      "Epoch: 2/5 (learning rate: 0.5)\n",
      "\t Batch 400/937\n",
      "\t Batch 800/937\n",
      "\t Training Error 3.70 %\n",
      "\t Test Error 4.08 %\n",
      "Epoch: 3/5 (learning rate: 0.5)\n",
      "\t Batch 400/937\n",
      "\t Batch 800/937\n",
      "\t Training Error 2.72 %\n",
      "\t Test Error 2.73 %\n",
      "Epoch: 4/5 (learning rate: 0.5)\n",
      "\t Batch 400/937\n",
      "\t Batch 800/937\n",
      "\t Training Error 2.16 %\n",
      "\t Test Error 2.38 %\n",
      "Epoch: 5/5 (learning rate: 0.5)\n",
      "\t Batch 400/937\n",
      "\t Batch 800/937\n",
      "\t Training Error 1.82 %\n",
      "\t Test Error 2.34 %\n",
      "Epoch: 1/5 (learning rate: 1.0)\n",
      "\t Batch 400/937\n",
      "\t Batch 800/937\n",
      "\t Training Error 21.69 %\n",
      "\t Test Error 18.01 %\n",
      "Epoch: 2/5 (learning rate: 1.0)\n",
      "\t Batch 400/937\n",
      "\t Batch 800/937\n",
      "\t Training Error 9.75 %\n",
      "\t Test Error 11.97 %\n",
      "Epoch: 3/5 (learning rate: 1.0)\n",
      "\t Batch 400/937\n",
      "\t Batch 800/937\n",
      "\t Training Error 7.50 %\n",
      "\t Test Error 8.16 %\n",
      "Epoch: 4/5 (learning rate: 1.0)\n",
      "\t Batch 400/937\n",
      "\t Batch 800/937\n",
      "\t Training Error 6.51 %\n",
      "\t Test Error 7.26 %\n",
      "Epoch: 5/5 (learning rate: 1.0)\n",
      "\t Batch 400/937\n",
      "\t Batch 800/937\n",
      "\t Training Error 6.05 %\n",
      "\t Test Error 7.21 %\n"
     ]
    }
   ],
   "source": [
    "num_epochs = 5\n",
    "batch_size = 64\n",
    "learning_rates = [0.1, 0.5, 1.0]\n",
    "\n",
    "train_err_per_lr = []\n",
    "test_err_per_lr = []\n",
    "\n",
    "for i in range(len(learning_rates)):\n",
    "    edf.learning_rate = learning_rates[i]\n",
    "    np.random.seed(1234)\n",
    "    edf.clear_compgraph()\n",
    "\n",
    "    # TO-DO: add training code below\n",
    "    # ...\n",
    "    # ...\n",
    "    # train_err_per_lr\n",
    "    # test_err_per_lr\n",
    "    x_node = edf.Input()\n",
    "    y_node = edf.Input()\n",
    "    affine_params_1 = edf.AffineParams(nInputs, nHiddens)\n",
    "    outputLayer = ReLU(edf.Affine(affine_params_1, x_node))\n",
    "    affine_params_2 = edf.AffineParams(nHiddens, nOutputs)\n",
    "    y_hat = edf.Softmax(edf.Affine(affine_params_2, outputLayer))\n",
    "    loss = edf.CrossEntropyLoss(y_hat, y_node)\n",
    "\n",
    "    train_err_log, test_err_log = train_and_test(num_epochs, batch_size, x_node, y_node, y_hat, loss)\n",
    "\n",
    "    train_err_per_lr.append(train_err_log[-1])\n",
    "    test_err_per_lr.append(test_err_log[-1])\n",
    "\n",
    "\n",
    "best_relu_idx = np.argmin(test_err_per_lr)\n",
    "best_relu_lr = learning_rates[best_relu_idx]\n"
   ]
  },
  {
   "cell_type": "code",
   "execution_count": 73,
   "metadata": {},
   "outputs": [
    {
     "data": {
      "image/png": "[encoded data removed]",
      "text/plain": [
       "<Figure size 432x288 with 1 Axes>"
      ]
     },
     "metadata": {
      "needs_background": "light"
     },
     "output_type": "display_data"
    },
    {
     "data": {
      "text/plain": [
       "<Figure size 432x288 with 0 Axes>"
      ]
     },
     "metadata": {},
     "output_type": "display_data"
    }
   ],
   "source": [
    "plt.xlabel(\"learning rate\")\n",
    "plt.ylabel(\"error (%)\")\n",
    "plt.plot(learning_rates, test_err_per_lr, color='red')\n",
    "plt.plot(best_relu_lr, test_err_per_lr[best_relu_idx], 'ok', label='_nolegend_')\n",
    "plt.plot(learning_rates, train_err_per_lr, color='blue')\n",
    "plt.legend(['test error', 'train error'], loc='upper right')\n",
    "plt.show()\n",
    "plt.clf()"
   ]
  },
  {
   "cell_type": "markdown",
   "metadata": {},
   "source": [
    "## Change the number of MLP hidden layers\n",
    "We will check how the number of hidden layers affects the model's performance. "
   ]
  },
  {
   "cell_type": "markdown",
   "metadata": {},
   "source": [
    "Similar to the exploration with different learning rates, you will see how the depth of the network `nLayers` affects its performance, first for a sigmoid network. \n",
    "\n",
    "Your code should supports multiple hidden layers (note the new nLayers argument). Each hidden layer should have nHiddens neurons.    \n",
    "Hint: since now we might have more than one hidden layer, we can use a for loop over `nLayers` to add every layer (each intermediate `Affine` layer has `nHiddens` as both input and output)\n",
    "\n",
    "Fill the missing code below to populate `train_err_per_depth` and `test_err_per_depth` accordingly"
   ]
  },
  {
   "cell_type": "code",
   "execution_count": 81,
   "metadata": {},
   "outputs": [
    {
     "name": "stdout",
     "output_type": "stream",
     "text": [
      "Num Layers 2\n",
      "Epoch: 1/5 (learning rate: 1.0)\n",
      "\t Batch 400/937\n",
      "\t Batch 800/937\n",
      "\t Training Error 15.71 %\n",
      "\t Test Error 8.37 %\n",
      "Epoch: 2/5 (learning rate: 1.0)\n",
      "\t Batch 400/937\n",
      "\t Batch 800/937\n",
      "\t Training Error 5.36 %\n",
      "\t Test Error 6.06 %\n",
      "Epoch: 3/5 (learning rate: 1.0)\n",
      "\t Batch 400/937\n",
      "\t Batch 800/937\n",
      "\t Training Error 3.77 %\n",
      "\t Test Error 4.58 %\n",
      "Epoch: 4/5 (learning rate: 1.0)\n",
      "\t Batch 400/937\n",
      "\t Batch 800/937\n",
      "\t Training Error 2.93 %\n",
      "\t Test Error 3.66 %\n",
      "Epoch: 5/5 (learning rate: 1.0)\n",
      "\t Batch 400/937\n",
      "\t Batch 800/937\n",
      "\t Training Error 2.40 %\n",
      "\t Test Error 3.22 %\n",
      "Num Layers 4\n",
      "Epoch: 1/5 (learning rate: 1.0)\n",
      "\t Batch 400/937\n",
      "\t Batch 800/937\n",
      "\t Training Error 85.73 %\n",
      "\t Test Error 67.00 %\n",
      "Epoch: 2/5 (learning rate: 1.0)\n",
      "\t Batch 400/937\n",
      "\t Batch 800/937\n",
      "\t Training Error 31.14 %\n",
      "\t Test Error 17.53 %\n",
      "Epoch: 3/5 (learning rate: 1.0)\n",
      "\t Batch 400/937\n",
      "\t Batch 800/937\n",
      "\t Training Error 8.18 %\n",
      "\t Test Error 8.23 %\n",
      "Epoch: 4/5 (learning rate: 1.0)\n",
      "\t Batch 400/937\n",
      "\t Batch 800/937\n",
      "\t Training Error 5.37 %\n",
      "\t Test Error 5.30 %\n",
      "Epoch: 5/5 (learning rate: 1.0)\n",
      "\t Batch 400/937\n",
      "\t Batch 800/937\n",
      "\t Training Error 4.05 %\n",
      "\t Test Error 4.31 %\n",
      "Num Layers 6\n",
      "Epoch: 1/5 (learning rate: 1.0)\n",
      "\t Batch 400/937\n",
      "\t Batch 800/937\n",
      "\t Training Error 89.80 %\n",
      "\t Test Error 89.30 %\n",
      "Epoch: 2/5 (learning rate: 1.0)\n",
      "\t Batch 400/937\n",
      "\t Batch 800/937\n",
      "\t Training Error 89.46 %\n",
      "\t Test Error 89.30 %\n",
      "Epoch: 3/5 (learning rate: 1.0)\n",
      "\t Batch 400/937\n",
      "\t Batch 800/937\n",
      "\t Training Error 89.40 %\n",
      "\t Test Error 89.30 %\n",
      "Epoch: 4/5 (learning rate: 1.0)\n",
      "\t Batch 400/937\n",
      "\t Batch 800/937\n",
      "\t Training Error 89.39 %\n",
      "\t Test Error 89.30 %\n",
      "Epoch: 5/5 (learning rate: 1.0)\n",
      "\t Batch 400/937\n",
      "\t Batch 800/937\n",
      "\t Training Error 89.38 %\n",
      "\t Test Error 89.30 %\n"
     ]
    }
   ],
   "source": [
    "nInputs = train_images.shape[1] # 784-dimension \n",
    "nOutputs = 10 # Output dimension\n",
    "nHiddens = 64 # Number of neurons in the hidden layer\n",
    "\n",
    "edf.learning_rate = best_sigmoid_lr\n",
    "# edf.learning_rate = 0.5\n",
    "num_epochs = 5\n",
    "batch_size = 64\n",
    "num_layers = [2, 4, 6]\n",
    "\n",
    "train_err_per_depth = []\n",
    "test_err_per_depth = []\n",
    "\n",
    "for nLayers in num_layers: # nLayers: number of hidden layers\n",
    "    print (\"Num Layers {}\".format(nLayers))\n",
    "    np.random.seed(1234)\n",
    "    edf.clear_compgraph()\n",
    "    \n",
    "    x_node = edf.Input()\n",
    "    y_node = edf.Input()\n",
    "    param_first = edf.AffineParams(nInputs, nHiddens)\n",
    "    h = edf.Sigmoid(edf.Affine(param_first, x_node))\n",
    "\n",
    "    # TO-DO: add code below\n",
    "    # for i in range(nLayers-1):\n",
    "    #     ...\n",
    "    #     ...\n",
    "    # prob_node = ...\n",
    "    # loss_node = ...\n",
    "    for l in range(nLayers-1):\n",
    "       params = edf.AffineParams(nHiddens, nHiddens)\n",
    "       h = edf.Sigmoid(edf.Affine(params, h))\n",
    "    params_last = edf.AffineParams(nHiddens, nOutputs)\n",
    "    y_hat = edf.Softmax(edf.Affine(params_last, h))\n",
    "    loss = edf.CrossEntropyLoss(y_hat, y_node)\n",
    "\n",
    "\n",
    "    # train_err_per_depth\n",
    "    # test_err_per_depth\n",
    "    train_err_log, test_err_log = train_and_test(num_epochs, batch_size, x_node, y_node, y_hat, loss)\n",
    "\n",
    "    train_err_per_depth.append(train_err_log[-1])\n",
    "    test_err_per_depth.append(test_err_log[-1])\n",
    "    \n",
    "    \n",
    "    \n",
    "best_sigmoid_idx = np.argmin(test_err_per_depth)\n",
    "best_sigmoid_depth = num_layers[best_sigmoid_idx]\n"
   ]
  },
  {
   "cell_type": "code",
   "execution_count": 82,
   "metadata": {},
   "outputs": [
    {
     "data": {
      "image/png": "[encoded data removed]",
      "text/plain": [
       "<Figure size 432x288 with 1 Axes>"
      ]
     },
     "metadata": {
      "needs_background": "light"
     },
     "output_type": "display_data"
    },
    {
     "data": {
      "text/plain": [
       "<Figure size 432x288 with 0 Axes>"
      ]
     },
     "metadata": {},
     "output_type": "display_data"
    }
   ],
   "source": [
    "plt.xlabel(\"depth\")\n",
    "plt.ylabel(\"error (%)\")\n",
    "plt.plot(num_layers, test_err_per_depth, color='red')\n",
    "plt.plot(num_layers, train_err_per_depth, color='blue')\n",
    "plt.legend(['test error', 'train error'], loc='upper right')\n",
    "plt.show()\n",
    "plt.clf()"
   ]
  },
  {
   "cell_type": "markdown",
   "metadata": {},
   "source": [
    "Now repeat the experiment above for a ReLU MLP"
   ]
  },
  {
   "cell_type": "code",
   "execution_count": 14,
   "metadata": {},
   "outputs": [
    {
     "ename": "NameError",
     "evalue": "name 'best_relu_lr' is not defined",
     "output_type": "error",
     "traceback": [
      "\u001b[0;31m---------------------------------------------------------------------------\u001b[0m",
      "\u001b[0;31mNameError\u001b[0m                                 Traceback (most recent call last)",
      "\u001b[1;32m/Users/ngthlo.lap/Documents/Coding/DL-Tubingen-Univ/dl/E02/image_classification.ipynb Cell 48'\u001b[0m in \u001b[0;36m<module>\u001b[0;34m\u001b[0m\n\u001b[0;32m----> <a href='vscode-notebook-cell:/Users/ngthlo.lap/Documents/Coding/DL-Tubingen-Univ/dl/E02/image_classification.ipynb#ch0000047?line=0'>1</a>\u001b[0m edf\u001b[39m.\u001b[39mlearning_rate \u001b[39m=\u001b[39m best_relu_lr\n\u001b[1;32m      <a href='vscode-notebook-cell:/Users/ngthlo.lap/Documents/Coding/DL-Tubingen-Univ/dl/E02/image_classification.ipynb#ch0000047?line=1'>2</a>\u001b[0m num_epochs \u001b[39m=\u001b[39m \u001b[39m5\u001b[39m\n\u001b[1;32m      <a href='vscode-notebook-cell:/Users/ngthlo.lap/Documents/Coding/DL-Tubingen-Univ/dl/E02/image_classification.ipynb#ch0000047?line=2'>3</a>\u001b[0m batch_size \u001b[39m=\u001b[39m \u001b[39m64\u001b[39m\n",
      "\u001b[0;31mNameError\u001b[0m: name 'best_relu_lr' is not defined"
     ]
    }
   ],
   "source": [
    "edf.learning_rate = best_relu_lr\n",
    "num_epochs = 5\n",
    "batch_size = 64\n",
    "num_layers = [2, 4, 6]\n",
    "\n",
    "train_err_per_depth = []\n",
    "test_err_per_depth = []\n",
    "\n",
    "\n",
    "for nLayers in num_layers:\n",
    "    print (\"Num Layers {}\".format(nLayers))\n",
    "    np.random.seed(1234)\n",
    "    \n",
    "    edf.clear_compgraph()\n",
    "    x_node = edf.Input()\n",
    "    y_node = edf.Input()\n",
    "    param_first = edf.AffineParams(nInputs, nHiddens)\n",
    "    h = ReLU(edf.Affine(param_first, x_node))\n",
    "\n",
    "    # TO-DO: add code below\n",
    "    # for i in range(nLayers-1):\n",
    "    #     ...\n",
    "    #     ...\n",
    "    # prob_node = ...\n",
    "    # loss_node = ...\n",
    "    for i in range(nLayers-1):\n",
    "        params = edf.AffineParams(nHiddens, nHidden)\n",
    "        h = edf.ReLU(edf.Affine(params, h))\n",
    "    params_last = edf.AffineParams(nHiddens, nOutputs)\n",
    "    outputLayer = ReLU(edf.Affine(params_last, h))\n",
    "    y_hat = edf.Softmax(y_hat, y_node)\n",
    "    loss = edf.CrossEntropyLoss(y_hat, y_node)\n",
    "\n",
    "    \n",
    "    # train_err_per_depth\n",
    "    # test_err_per_depth\n",
    "    train_err_per_depth, test_err_per_depth = train_and_test(num_epochs, batch_size, x_node, y_node, y_hat, loss)\n",
    "    \n",
    "best_relu_idx = np.argmin(test_err_per_depth)\n",
    "best_relu_depth = num_layers[best_relu_idx]\n"
   ]
  },
  {
   "cell_type": "code",
   "execution_count": null,
   "metadata": {},
   "outputs": [],
   "source": [
    "plt.xlabel(\"depth\")\n",
    "plt.ylabel(\"error (%)\")\n",
    "plt.plot(num_layers, test_err_per_depth, color='red')\n",
    "plt.plot(num_layers, train_err_per_depth, color='blue')\n",
    "plt.legend(['test error', 'train error'], loc='upper right')\n",
    "plt.show()\n",
    "plt.clf()"
   ]
  },
  {
   "cell_type": "markdown",
   "metadata": {},
   "source": [
    "## Change the Width of MLP hidden layers\n",
    "We will check how different hidden dimensions affect the model's performance. \n",
    "Fill the missing code below to populate `train_err_per_hidden` and `test_err_per_hidden` accordingly\n",
    "\n",
    "You can reuse everything you coded above. \n"
   ]
  },
  {
   "cell_type": "code",
   "execution_count": null,
   "metadata": {},
   "outputs": [],
   "source": [
    "edf.learning_rate = best_sigmoid_lr\n",
    "num_epochs = 5\n",
    "batch_size = 64\n",
    "num_hidden = [32, 64, 128]\n",
    "\n",
    "nLayers = best_sigmoid_depth\n",
    "\n",
    "train_err_per_hidden = []\n",
    "test_err_per_hidden = []\n",
    "\n",
    "for nHiddens in num_hidden:\n",
    "    print (\"Hidden Dimension {}\".format(nHiddens))\n",
    "    np.random.seed(1234)\n",
    "    edf.clear_compgraph()\n",
    "    \n",
    "    x_node = edf.Input()\n",
    "    y_node = edf.Input()\n",
    "    param_first = edf.AffineParams(nInputs, nHiddens)\n",
    "    h = edf.Sigmoid(edf.Affine(param_first, x_node))\n",
    "\n",
    "    # TO-DO: add code below\n",
    "    # for i in range(nLayers-1):\n",
    "    #     ...\n",
    "    #     ...\n",
    "    # prob_node = ...\n",
    "    # loss_node = ...\n",
    "    \n",
    "    # train_err_per_hidden\n",
    "    # test_err_per_hidden\n"
   ]
  },
  {
   "cell_type": "code",
   "execution_count": null,
   "metadata": {},
   "outputs": [],
   "source": [
    "plt.xlabel(\"hidden dimension\")\n",
    "plt.ylabel(\"error (%)\")\n",
    "plt.plot(num_hidden, test_err_per_hidden, color='red')\n",
    "plt.plot(num_hidden, train_err_per_hidden, color='blue')\n",
    "plt.legend(['test error', 'train error'], loc='upper right')\n",
    "plt.show()\n",
    "plt.clf()"
   ]
  },
  {
   "cell_type": "markdown",
   "metadata": {},
   "source": [
    "Again, Replace `Sigmoid` with `ReLU`"
   ]
  },
  {
   "cell_type": "code",
   "execution_count": null,
   "metadata": {},
   "outputs": [],
   "source": [
    "edf.learning_rate = best_relu_lr\n",
    "num_epochs = 5\n",
    "batch_size = 64\n",
    "num_hidden = [32, 64, 128]\n",
    "\n",
    "nLayers = best_relu_depth\n",
    "\n",
    "train_err_per_hidden = []\n",
    "test_err_per_hidden = []\n",
    "\n",
    "for nHiddens in num_hidden:\n",
    "    print (\"Hidden Dimension {}\".format(nHiddens))\n",
    "    np.random.seed(1234)\n",
    "    edf.clear_compgraph()\n",
    "    \n",
    "    x_node = edf.Input()\n",
    "    y_node = edf.Input()\n",
    "    param_first = edf.AffineParams(nInputs, nHiddens)\n",
    "    h = ReLU(edf.Affine(param_first, x_node))\n",
    "\n",
    "    # TO-DO: add code below\n",
    "    # for i in range(nLayers-1):\n",
    "    #     ...\n",
    "    #     ...\n",
    "    # prob_node = ...\n",
    "    # loss_node = ...\n",
    "    \n",
    "    # train_err_per_hidden\n",
    "    # test_err_per_hidden\n",
    "    "
   ]
  },
  {
   "cell_type": "code",
   "execution_count": null,
   "metadata": {},
   "outputs": [],
   "source": [
    "plt.xlabel(\"hidden dimension\")\n",
    "plt.ylabel(\"error (%)\")\n",
    "plt.plot(num_hidden, test_err_per_hidden, color='red')\n",
    "plt.plot(num_hidden, train_err_per_hidden, color='blue')\n",
    "plt.legend(['test error', 'train error'], loc='upper right')\n",
    "plt.show()\n",
    "plt.clf()"
   ]
  },
  {
   "cell_type": "markdown",
   "metadata": {},
   "source": [
    "### Inline Question 2:\n",
    "Assume a model's train error keeps decreasing, but the test error increases when hidden dimension is too large (as shown below), what might be the reason?\n",
    "\n",
    "**Your answer:** *Fill this in*\n"
   ]
  }
 ],
 "metadata": {
  "kernelspec": {
   "display_name": "Python 3",
   "name": "python3"
  },
  "language_info": {
   "codemirror_mode": {
    "name": "ipython",
    "version": 3
   },
   "file_extension": ".py",
   "mimetype": "text/x-python",
   "name": "python",
   "nbconvert_exporter": "python",
   "pygments_lexer": "ipython3",
   "version": "3.10.1"
  }
 },
 "nbformat": 4,
 "nbformat_minor": 4
}
